{
 "cells": [
  {
   "cell_type": "code",
   "execution_count": 1,
   "id": "999ccc50",
   "metadata": {},
   "outputs": [],
   "source": [
    "import numpy as np"
   ]
  },
  {
   "cell_type": "code",
   "execution_count": 2,
   "id": "cf80df15",
   "metadata": {},
   "outputs": [],
   "source": [
    "def get_alphabet(option=\"english\"):\n",
    "    if option == \"english\":\n",
    "        return list(map(chr, range(ord(\"a\"), ord(\"z\")+1)))\n",
    "    elif option == \"russian\":\n",
    "        return list(map(chr, range(ord(\"а\"), ord(\"я\")+1)))"
   ]
  },
  {
   "cell_type": "code",
   "execution_count": 3,
   "id": "2f0fa3c9",
   "metadata": {},
   "outputs": [],
   "source": [
    "def marchroute_cipher(message: str, key: str):\n",
    "    alphabet_russian = get_alphabet(\"russian\")\n",
    "    alphabet_english = get_alphabet()\n",
    "    columns_size = len(key)\n",
    "    \n",
    "    message_cleared = list(filter(lambda s: s.lower() in alphabet_russian or s in alphabet_english, message))\n",
    "    \n",
    "    message_matrix = [\n",
    "        [letter for letter in message_cleared[i:i+columns_size]] \n",
    "        for i in range(0, len(message_cleared), columns_size)\n",
    "    ]\n",
    "    \n",
    "    if len(message_matrix[-1]) < columns_size:\n",
    "        message_matrix[-1] = message_matrix[-1] +\n",
    "            [message_matrix[-1][-1]]*(columns_size-len(message_matrix[-1]))\n",
    "    \n",
    "    message_password_dict = { value : np.array(message_matrix)[:,k] for k, value in enumerate(list(key)) }\n",
    "    \n",
    "    ciphered_message = ''.join([''.join(message_password_dict[k]).upper() \n",
    "                                for k in sorted(message_password_dict.keys())])\n",
    "    \n",
    "    return ciphered_message"
   ]
  },
  {
   "cell_type": "code",
   "execution_count": 4,
   "id": "ab555495",
   "metadata": {},
   "outputs": [],
   "source": [
    "m_test = \"нельзя недооценивать противника\"\n",
    "k_test = \"пароль\""
   ]
  },
  {
   "cell_type": "code",
   "execution_count": 5,
   "id": "a46c326e",
   "metadata": {},
   "outputs": [
    {
     "name": "stdout",
     "output_type": "stream",
     "text": [
      "Результат шифрования:         \n",
      "нельзя недооценивать противника * [пароль]\n",
      "-> ('ЕЕНПНЗОАТАЬОВОКННЕЬВЛДИРИЯЦТИА', 30)\n"
     ]
    }
   ],
   "source": [
    "result = marchroute_cipher(m_test, k_test)\n",
    "print(f'Результат шифрования: \\\n",
    "        \\n{m_test} * [{k_test}]\\n-> {result, len(result)}')"
   ]
  },
  {
   "cell_type": "code",
   "execution_count": 6,
   "id": "4d760061",
   "metadata": {},
   "outputs": [],
   "source": [
    "# Не удалось реализовать\n",
    "def cell_cipher(message: str, key: str, matrix_key=None):\n",
    "    alphabet_russian = get_alphabet(\"russian\")\n",
    "    alphabet_english = get_alphabet()\n",
    "    columns_size = len(key)\n",
    "    \n",
    "    message_cleared = list(filter(lambda s: s.lower() in alphabet_russian or s in alphabet_english, message))\n",
    "    \n",
    "    k = round(len(key) ** (1/2))\n",
    "\n",
    "    message_matrix = np.matrix([\n",
    "        [i+1 for i in range(ki, ki+k)] \n",
    "        for ki in range(0, k**2, k)\n",
    "    ])\n",
    "    \n",
    "    mask_matrix = [\n",
    "        np.asarray(np.rot90(message_matrix, k = i, axes = (1,0))).flatten() for i in range(0, 4)\n",
    "    ]\n",
    "    \n",
    "    matrix_key = [np.zeros(k**2) for i in range(0, k**2)]\n",
    "    \n",
    "    for i in range(0, k**2):\n",
    "        bit_mask = (mask_matrix[i%4] == i+1).astype(int)\n",
    "        #print(bit_mask)\n",
    "        matrix_key[i%4] = mask_matrix[i%4].multiply(bit_mask)\n",
    "    \n",
    "    return matrix_key"
   ]
  },
  {
   "cell_type": "code",
   "execution_count": 7,
   "id": "eba9440c",
   "metadata": {},
   "outputs": [],
   "source": [
    "#m_test = \"договор подписали\"\n",
    "#k_test = \"сообщение\""
   ]
  },
  {
   "cell_type": "code",
   "execution_count": 8,
   "id": "71367757",
   "metadata": {},
   "outputs": [],
   "source": [
    "#test_cell_cipher = cell_cipher(m_test, k_test)\n",
    "#print(test_cell_cipher)"
   ]
  },
  {
   "cell_type": "code",
   "execution_count": 9,
   "id": "b97c216a",
   "metadata": {},
   "outputs": [],
   "source": [
    "def vigenere_table(message: str, key: str, differ_alphabet=False):\n",
    "    alphabet_russian = get_alphabet(\"russian\")\n",
    "    if differ_alphabet:\n",
    "        alphabet_russian.remove('ь')\n",
    "        alphabet_russian[alphabet_russian.index('ъ')] = 'ь'\n",
    "    alphabet_english = get_alphabet()\n",
    "    \n",
    "    def find_letter_for_pair(letters_pair: tuple):\n",
    "        if letters_pair[0].lower() in alphabet_russian:\n",
    "            orig_letter_index = alphabet_russian.index(letters_pair[1].lower())\n",
    "            key_letter_index = alphabet_russian.index(letters_pair[0].lower())\n",
    "            \n",
    "            shift = orig_letter_index + key_letter_index\n",
    "            \n",
    "            if shift > len(alphabet_russian):\n",
    "                return alphabet_russian[shift - len(alphabet_russian)]\n",
    "            \n",
    "            return alphabet_russian[shift]\n",
    "    \n",
    "    message_cleared = list(filter(lambda s: s.lower() in alphabet_russian or s in alphabet_english, message))\n",
    "    row_length = len(message_cleared)\n",
    "    full_key = (list(key) * row_length)[:row_length]\n",
    "    \n",
    "    message_key_zip = list(zip(full_key, message_cleared))\n",
    "    \n",
    "    return ''.join(list(map(find_letter_for_pair, message_key_zip))).upper()"
   ]
  },
  {
   "cell_type": "code",
   "execution_count": 10,
   "id": "f6da304e",
   "metadata": {},
   "outputs": [],
   "source": [
    "m_test = \"криптография - серьезная наука\"\n",
    "k_test = \"математика\""
   ]
  },
  {
   "cell_type": "code",
   "execution_count": 11,
   "id": "ef5b4098",
   "metadata": {},
   "outputs": [
    {
     "name": "stdout",
     "output_type": "stream",
     "text": [
      "Результат шифрования:         \n",
      "(криптография - серьезная наука) * [математика]\n",
      "-> ('ЦРЬФЯОХШКФФЯДКЭЬЧПЧАЛНТШЦА', 26)\n"
     ]
    }
   ],
   "source": [
    "result = vigenere_table(m_test, k_test, True)\n",
    "\n",
    "print(f'Результат шифрования: \\\n",
    "        \\n({m_test}) * [{k_test}]\\n-> {result, len(result)}')"
   ]
  }
 ],
 "metadata": {
  "kernelspec": {
   "display_name": "Python 3 (ipykernel)",
   "language": "python",
   "name": "python3"
  },
  "language_info": {
   "codemirror_mode": {
    "name": "ipython",
    "version": 3
   },
   "file_extension": ".py",
   "mimetype": "text/x-python",
   "name": "python",
   "nbconvert_exporter": "python",
   "pygments_lexer": "ipython3",
   "version": "3.8.13"
  }
 },
 "nbformat": 4,
 "nbformat_minor": 5
}
